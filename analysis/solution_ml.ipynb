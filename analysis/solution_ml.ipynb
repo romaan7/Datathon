{
 "cells": [
  {
   "cell_type": "code",
   "execution_count": 4,
   "metadata": {},
   "outputs": [
    {
     "data": {
      "text/plain": [
       "{'Accuracy': 0.9718068469086079,\n",
       " 'ROC AUC': np.float64(0.9567525390164416),\n",
       " 'Classification Report': '              precision    recall  f1-score   support\\n\\n         0.0       0.84      0.46      0.60      1053\\n         1.0       0.98      1.00      0.99     22286\\n\\n    accuracy                           0.97     23339\\n   macro avg       0.91      0.73      0.79     23339\\nweighted avg       0.97      0.97      0.97     23339\\n'}"
      ]
     },
     "execution_count": 4,
     "metadata": {},
     "output_type": "execute_result"
    }
   ],
   "source": [
    "from sklearn.model_selection import train_test_split\n",
    "from sklearn.linear_model import LogisticRegression\n",
    "from sklearn.metrics import classification_report, accuracy_score, roc_auc_score, confusion_matrix\n",
    "from sklearn.preprocessing import StandardScaler, OneHotEncoder\n",
    "from sklearn.compose import ColumnTransformer\n",
    "from sklearn.pipeline import Pipeline\n",
    "import pandas as pd\n",
    "\n",
    "# Load the dataset\n",
    "file_path = 'cleaned_diabetes_data.csv'\n",
    "data = pd.read_csv(file_path)\n",
    "\n",
    "# Separate features and target variable\n",
    "X = data.drop(columns=['diabetes'])\n",
    "y = data['diabetes']\n",
    "\n",
    "# Identify numerical and categorical columns\n",
    "numerical_features = ['age', 'BMI', 'diabetes_pedigree_function', 'weight', 'sleep_duration', 'pregnancies']\n",
    "categorical_features = ['gender', 'diet_type', 'social_media_usage', 'stress_level', 'physical_activity_level', 'alcohol_consumption']\n",
    "\n",
    "# Train-test split\n",
    "X_train, X_test, y_train, y_test = train_test_split(X, y, test_size=0.3, random_state=42, stratify=y)\n",
    "\n",
    "# Preprocessing: Scale numerical data and encode categorical data\n",
    "preprocessor = ColumnTransformer(\n",
    "    transformers=[\n",
    "        ('num', StandardScaler(), numerical_features),\n",
    "        ('cat', OneHotEncoder(drop='first'), categorical_features)\n",
    "    ]\n",
    ")\n",
    "\n",
    "# Build Logistic Regression pipeline\n",
    "logreg_pipeline = Pipeline(steps=[\n",
    "    ('preprocessor', preprocessor),\n",
    "    ('classifier', LogisticRegression(random_state=42, max_iter=1000))\n",
    "])\n",
    "\n",
    "# Train the Logistic Regression model\n",
    "logreg_pipeline.fit(X_train, y_train)\n",
    "\n",
    "# Predictions and evaluation\n",
    "y_pred = logreg_pipeline.predict(X_test)\n",
    "y_pred_proba = logreg_pipeline.predict_proba(X_test)[:, 1]\n",
    "\n",
    "# Evaluation metrics\n",
    "accuracy = accuracy_score(y_test, y_pred)\n",
    "roc_auc = roc_auc_score(y_test, y_pred_proba)\n",
    "classification_rep = classification_report(y_test, y_pred)\n",
    "\n",
    "# Display results\n",
    "results = {\n",
    "    'Accuracy': accuracy,\n",
    "    'ROC AUC': roc_auc,\n",
    "    'Classification Report': classification_rep\n",
    "}\n",
    "results\n"
   ]
  },
  {
   "cell_type": "code",
   "execution_count": 5,
   "metadata": {},
   "outputs": [
    {
     "data": {
      "text/plain": [
       "{'Accuracy': 0.9718068469086079,\n",
       " 'ROC AUC': np.float64(0.9567525390164416),\n",
       " 'Classification Report': '              precision    recall  f1-score   support\\n\\n         0.0       0.84      0.46      0.60      1053\\n         1.0       0.98      1.00      0.99     22286\\n\\n    accuracy                           0.97     23339\\n   macro avg       0.91      0.73      0.79     23339\\nweighted avg       0.97      0.97      0.97     23339\\n'}"
      ]
     },
     "execution_count": 5,
     "metadata": {},
     "output_type": "execute_result"
    }
   ],
   "source": [
    "from sklearn.impute import SimpleImputer\n",
    "\n",
    "# Impute missing values for numerical and categorical columns\n",
    "numerical_imputer = SimpleImputer(strategy=\"mean\")\n",
    "categorical_imputer = SimpleImputer(strategy=\"most_frequent\")\n",
    "\n",
    "# Apply imputers to respective columns\n",
    "X[numerical_features] = numerical_imputer.fit_transform(X[numerical_features])\n",
    "X[categorical_features] = categorical_imputer.fit_transform(X[categorical_features])\n",
    "\n",
    "# Retry train-test split after imputing missing values\n",
    "X_train, X_test, y_train, y_test = train_test_split(X, y, test_size=0.3, random_state=42, stratify=y)\n",
    "\n",
    "# Retry preprocessing and Logistic Regression pipeline\n",
    "logreg_pipeline.fit(X_train, y_train)\n",
    "\n",
    "# Predictions and evaluation\n",
    "y_pred = logreg_pipeline.predict(X_test)\n",
    "y_pred_proba = logreg_pipeline.predict_proba(X_test)[:, 1]\n",
    "\n",
    "# Metrics\n",
    "accuracy = accuracy_score(y_test, y_pred)\n",
    "roc_auc = roc_auc_score(y_test, y_pred_proba)\n",
    "classification_rep = classification_report(y_test, y_pred)\n",
    "\n",
    "# Display results\n",
    "results = {\n",
    "    'Accuracy': accuracy,\n",
    "    'ROC AUC': roc_auc,\n",
    "    'Classification Report': classification_rep\n",
    "}\n",
    "results\n"
   ]
  },
  {
   "cell_type": "code",
   "execution_count": 6,
   "metadata": {},
   "outputs": [
    {
     "data": {
      "text/plain": [
       "{'Accuracy': 0.9714212262736193,\n",
       " 'ROC AUC': np.float64(0.9563299271262418),\n",
       " 'Classification Report': '              precision    recall  f1-score   support\\n\\n         0.0       0.85      0.45      0.59      1053\\n         1.0       0.97      1.00      0.99     22286\\n\\n    accuracy                           0.97     23339\\n   macro avg       0.91      0.72      0.79     23339\\nweighted avg       0.97      0.97      0.97     23339\\n'}"
      ]
     },
     "execution_count": 6,
     "metadata": {},
     "output_type": "execute_result"
    }
   ],
   "source": [
    "from sklearn.ensemble import RandomForestClassifier\n",
    "\n",
    "# Initialize the Random Forest model\n",
    "random_forest_model = Pipeline(steps=[\n",
    "    ('preprocessor', preprocessor),\n",
    "    ('classifier', RandomForestClassifier(random_state=42, n_estimators=100))\n",
    "])\n",
    "\n",
    "# Train the Random Forest model\n",
    "random_forest_model.fit(X_train, y_train)\n",
    "\n",
    "# Predictions and evaluation\n",
    "y_pred_rf = random_forest_model.predict(X_test)\n",
    "y_pred_proba_rf = random_forest_model.predict_proba(X_test)[:, 1]\n",
    "\n",
    "# Metrics\n",
    "accuracy_rf = accuracy_score(y_test, y_pred_rf)\n",
    "roc_auc_rf = roc_auc_score(y_test, y_pred_proba_rf)\n",
    "classification_rep_rf = classification_report(y_test, y_pred_rf)\n",
    "\n",
    "# Display results\n",
    "rf_results = {\n",
    "    'Accuracy': accuracy_rf,\n",
    "    'ROC AUC': roc_auc_rf,\n",
    "    'Classification Report': classification_rep_rf\n",
    "}\n",
    "rf_results\n"
   ]
  },
  {
   "cell_type": "code",
   "execution_count": null,
   "metadata": {},
   "outputs": [],
   "source": []
  }
 ],
 "metadata": {
  "kernelspec": {
   "display_name": "Python 3",
   "language": "python",
   "name": "python3"
  },
  "language_info": {
   "codemirror_mode": {
    "name": "ipython",
    "version": 3
   },
   "file_extension": ".py",
   "mimetype": "text/x-python",
   "name": "python",
   "nbconvert_exporter": "python",
   "pygments_lexer": "ipython3",
   "version": "3.13.0"
  }
 },
 "nbformat": 4,
 "nbformat_minor": 2
}
